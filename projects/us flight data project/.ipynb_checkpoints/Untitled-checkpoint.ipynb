{
 "cells": [
  {
   "cell_type": "markdown",
   "metadata": {},
   "source": [
    "# US Flight Data"
   ]
  },
  {
   "cell_type": "markdown",
   "metadata": {},
   "source": [
    "The main objective is to compare the Seattle-Tacoma International Airport and the San Francisco International Airport on the basis of its arrival and departure delays. We are also interested in the proportion of the types of delay (carrier, weather or security) prevalent in both airports. We also plan to investigate the effect of climate on the delays at both airports\n",
    "\n",
    "The data is available for the months of January through May. More data can be downloaded at https://www.transtats.bts.gov/DL_SelectFields.asp?Table_ID=236&DB_Short_Name=On-Time"
   ]
  },
  {
   "cell_type": "code",
   "execution_count": 1,
   "metadata": {
    "collapsed": true
   },
   "outputs": [],
   "source": [
    "#Load dependencies\n",
    "import pandas as pd\n",
    "import sklearn as sk\n",
    "import seaborn as sb\n",
    "import os\n",
    "import matplotlib.pyplot as plt\n",
    "%matplotlib inline"
   ]
  },
  {
   "cell_type": "markdown",
   "metadata": {},
   "source": [
    "### Loading and Cleaning Data"
   ]
  },
  {
   "cell_type": "markdown",
   "metadata": {},
   "source": [
    "The raw flight data has some missing values which has to be cleaned first. The carriers.xlt and airports new.xls were cleaned up beforehand. For easy processing by Pandas, they were converted to CSV as well."
   ]
  },
  {
   "cell_type": "code",
   "execution_count": 3,
   "metadata": {},
   "outputs": [],
   "source": [
    "filenames = os.listdir('./data')\n",
    "list=[]\n",
    "for i in range(len(filenames)):\n",
    "    data = pd.read_csv('./data/'+filenames[i],na_filter=True)\n",
    "    list.append(data)\n",
    "data = pd.concat(list)"
   ]
  },
  {
   "cell_type": "markdown",
   "metadata": {},
   "source": [
    "### Initial Data Exploration"
   ]
  },
  {
   "cell_type": "code",
   "execution_count": 4,
   "metadata": {},
   "outputs": [
    {
     "data": {
      "text/html": [
       "<div>\n",
       "<style>\n",
       "    .dataframe thead tr:only-child th {\n",
       "        text-align: right;\n",
       "    }\n",
       "\n",
       "    .dataframe thead th {\n",
       "        text-align: left;\n",
       "    }\n",
       "\n",
       "    .dataframe tbody tr th {\n",
       "        vertical-align: top;\n",
       "    }\n",
       "</style>\n",
       "<table border=\"1\" class=\"dataframe\">\n",
       "  <thead>\n",
       "    <tr style=\"text-align: right;\">\n",
       "      <th></th>\n",
       "      <th>YEAR</th>\n",
       "      <th>QUARTER</th>\n",
       "      <th>MONTH</th>\n",
       "      <th>UNIQUE_CARRIER</th>\n",
       "      <th>TAIL_NUM</th>\n",
       "      <th>FL_NUM</th>\n",
       "      <th>ORIGIN_AIRPORT_ID</th>\n",
       "      <th>ORIGIN</th>\n",
       "      <th>ORIGIN_STATE_ABR</th>\n",
       "      <th>DEST_AIRPORT_ID</th>\n",
       "      <th>...</th>\n",
       "      <th>DEP_TIME</th>\n",
       "      <th>DEP_DELAY</th>\n",
       "      <th>ARR_TIME</th>\n",
       "      <th>ARR_DELAY</th>\n",
       "      <th>CARRIER_DELAY</th>\n",
       "      <th>WEATHER_DELAY</th>\n",
       "      <th>NAS_DELAY</th>\n",
       "      <th>SECURITY_DELAY</th>\n",
       "      <th>LATE_AIRCRAFT_DELAY</th>\n",
       "      <th>Unnamed: 21</th>\n",
       "    </tr>\n",
       "  </thead>\n",
       "  <tbody>\n",
       "    <tr>\n",
       "      <th>0</th>\n",
       "      <td>2017</td>\n",
       "      <td>2</td>\n",
       "      <td>4</td>\n",
       "      <td>AA</td>\n",
       "      <td>N179AA</td>\n",
       "      <td>409</td>\n",
       "      <td>11298</td>\n",
       "      <td>DFW</td>\n",
       "      <td>TX</td>\n",
       "      <td>11057</td>\n",
       "      <td>...</td>\n",
       "      <td>2035.0</td>\n",
       "      <td>6.0</td>\n",
       "      <td>1.0</td>\n",
       "      <td>3.0</td>\n",
       "      <td>NaN</td>\n",
       "      <td>NaN</td>\n",
       "      <td>NaN</td>\n",
       "      <td>NaN</td>\n",
       "      <td>NaN</td>\n",
       "      <td>NaN</td>\n",
       "    </tr>\n",
       "    <tr>\n",
       "      <th>1</th>\n",
       "      <td>2017</td>\n",
       "      <td>2</td>\n",
       "      <td>4</td>\n",
       "      <td>AA</td>\n",
       "      <td>N181AA</td>\n",
       "      <td>409</td>\n",
       "      <td>11298</td>\n",
       "      <td>DFW</td>\n",
       "      <td>TX</td>\n",
       "      <td>11057</td>\n",
       "      <td>...</td>\n",
       "      <td>2026.0</td>\n",
       "      <td>-3.0</td>\n",
       "      <td>2351.0</td>\n",
       "      <td>-7.0</td>\n",
       "      <td>NaN</td>\n",
       "      <td>NaN</td>\n",
       "      <td>NaN</td>\n",
       "      <td>NaN</td>\n",
       "      <td>NaN</td>\n",
       "      <td>NaN</td>\n",
       "    </tr>\n",
       "    <tr>\n",
       "      <th>2</th>\n",
       "      <td>2017</td>\n",
       "      <td>2</td>\n",
       "      <td>4</td>\n",
       "      <td>AA</td>\n",
       "      <td>N161AA</td>\n",
       "      <td>409</td>\n",
       "      <td>11298</td>\n",
       "      <td>DFW</td>\n",
       "      <td>TX</td>\n",
       "      <td>11057</td>\n",
       "      <td>...</td>\n",
       "      <td>2024.0</td>\n",
       "      <td>-5.0</td>\n",
       "      <td>3.0</td>\n",
       "      <td>5.0</td>\n",
       "      <td>NaN</td>\n",
       "      <td>NaN</td>\n",
       "      <td>NaN</td>\n",
       "      <td>NaN</td>\n",
       "      <td>NaN</td>\n",
       "      <td>NaN</td>\n",
       "    </tr>\n",
       "    <tr>\n",
       "      <th>3</th>\n",
       "      <td>2017</td>\n",
       "      <td>2</td>\n",
       "      <td>4</td>\n",
       "      <td>AA</td>\n",
       "      <td>N192AA</td>\n",
       "      <td>409</td>\n",
       "      <td>11298</td>\n",
       "      <td>DFW</td>\n",
       "      <td>TX</td>\n",
       "      <td>11057</td>\n",
       "      <td>...</td>\n",
       "      <td>2044.0</td>\n",
       "      <td>15.0</td>\n",
       "      <td>8.0</td>\n",
       "      <td>10.0</td>\n",
       "      <td>NaN</td>\n",
       "      <td>NaN</td>\n",
       "      <td>NaN</td>\n",
       "      <td>NaN</td>\n",
       "      <td>NaN</td>\n",
       "      <td>NaN</td>\n",
       "    </tr>\n",
       "    <tr>\n",
       "      <th>4</th>\n",
       "      <td>2017</td>\n",
       "      <td>2</td>\n",
       "      <td>4</td>\n",
       "      <td>AA</td>\n",
       "      <td>N543AA</td>\n",
       "      <td>409</td>\n",
       "      <td>11298</td>\n",
       "      <td>DFW</td>\n",
       "      <td>TX</td>\n",
       "      <td>11057</td>\n",
       "      <td>...</td>\n",
       "      <td>2023.0</td>\n",
       "      <td>-6.0</td>\n",
       "      <td>2335.0</td>\n",
       "      <td>-23.0</td>\n",
       "      <td>NaN</td>\n",
       "      <td>NaN</td>\n",
       "      <td>NaN</td>\n",
       "      <td>NaN</td>\n",
       "      <td>NaN</td>\n",
       "      <td>NaN</td>\n",
       "    </tr>\n",
       "  </tbody>\n",
       "</table>\n",
       "<p>5 rows × 22 columns</p>\n",
       "</div>"
      ],
      "text/plain": [
       "   YEAR  QUARTER  MONTH UNIQUE_CARRIER TAIL_NUM  FL_NUM  ORIGIN_AIRPORT_ID  \\\n",
       "0  2017        2      4             AA   N179AA     409              11298   \n",
       "1  2017        2      4             AA   N181AA     409              11298   \n",
       "2  2017        2      4             AA   N161AA     409              11298   \n",
       "3  2017        2      4             AA   N192AA     409              11298   \n",
       "4  2017        2      4             AA   N543AA     409              11298   \n",
       "\n",
       "  ORIGIN ORIGIN_STATE_ABR  DEST_AIRPORT_ID     ...      DEP_TIME DEP_DELAY  \\\n",
       "0    DFW               TX            11057     ...        2035.0       6.0   \n",
       "1    DFW               TX            11057     ...        2026.0      -3.0   \n",
       "2    DFW               TX            11057     ...        2024.0      -5.0   \n",
       "3    DFW               TX            11057     ...        2044.0      15.0   \n",
       "4    DFW               TX            11057     ...        2023.0      -6.0   \n",
       "\n",
       "   ARR_TIME  ARR_DELAY  CARRIER_DELAY  WEATHER_DELAY  NAS_DELAY  \\\n",
       "0       1.0        3.0            NaN            NaN        NaN   \n",
       "1    2351.0       -7.0            NaN            NaN        NaN   \n",
       "2       3.0        5.0            NaN            NaN        NaN   \n",
       "3       8.0       10.0            NaN            NaN        NaN   \n",
       "4    2335.0      -23.0            NaN            NaN        NaN   \n",
       "\n",
       "   SECURITY_DELAY  LATE_AIRCRAFT_DELAY  Unnamed: 21  \n",
       "0             NaN                  NaN          NaN  \n",
       "1             NaN                  NaN          NaN  \n",
       "2             NaN                  NaN          NaN  \n",
       "3             NaN                  NaN          NaN  \n",
       "4             NaN                  NaN          NaN  \n",
       "\n",
       "[5 rows x 22 columns]"
      ]
     },
     "execution_count": 4,
     "metadata": {},
     "output_type": "execute_result"
    }
   ],
   "source": [
    "data.head()"
   ]
  },
  {
   "cell_type": "markdown",
   "metadata": {},
   "source": [
    "### Questions"
   ]
  },
  {
   "cell_type": "markdown",
   "metadata": {},
   "source": [
    "**Q.** Which airports have the most departures?"
   ]
  },
  {
   "cell_type": "code",
   "execution_count": 72,
   "metadata": {},
   "outputs": [],
   "source": [
    "jan = data[data['MONTH'] == 1].ORIGIN.value_counts().head()\n",
    "feb = data[data['MONTH'] == 2].ORIGIN.value_counts().head()\n",
    "mar = data[data['MONTH'] == 3].ORIGIN.value_counts().head()\n",
    "apr = data[data['MONTH'] == 4].ORIGIN.value_counts().head()\n",
    "may = data[data['MONTH'] == 5].ORIGIN.value_counts().head()\n",
    "departures = pd.DataFrame([jan,feb,mar,apr,may]).reset_index().drop('index',1).T.reset_index()\n",
    "departures.rename(columns={'index':'Airport',0:'January',1:'February',2:'March',3:'April',4:'May'},inplace=True)"
   ]
  },
  {
   "cell_type": "code",
   "execution_count": 76,
   "metadata": {},
   "outputs": [
    {
     "data": {
      "text/html": [
       "<div>\n",
       "<style>\n",
       "    .dataframe thead tr:only-child th {\n",
       "        text-align: right;\n",
       "    }\n",
       "\n",
       "    .dataframe thead th {\n",
       "        text-align: left;\n",
       "    }\n",
       "\n",
       "    .dataframe tbody tr th {\n",
       "        vertical-align: top;\n",
       "    }\n",
       "</style>\n",
       "<table border=\"1\" class=\"dataframe\">\n",
       "  <thead>\n",
       "    <tr style=\"text-align: right;\">\n",
       "      <th></th>\n",
       "      <th>Airport</th>\n",
       "      <th>January</th>\n",
       "      <th>February</th>\n",
       "      <th>March</th>\n",
       "      <th>April</th>\n",
       "      <th>May</th>\n",
       "    </tr>\n",
       "  </thead>\n",
       "  <tbody>\n",
       "    <tr>\n",
       "      <th>0</th>\n",
       "      <td>ATL</td>\n",
       "      <td>30138</td>\n",
       "      <td>27623</td>\n",
       "      <td>32457</td>\n",
       "      <td>31122</td>\n",
       "      <td>32157</td>\n",
       "    </tr>\n",
       "    <tr>\n",
       "      <th>1</th>\n",
       "      <td>DEN</td>\n",
       "      <td>17030</td>\n",
       "      <td>15533</td>\n",
       "      <td>18659</td>\n",
       "      <td>17704</td>\n",
       "      <td>19122</td>\n",
       "    </tr>\n",
       "    <tr>\n",
       "      <th>2</th>\n",
       "      <td>DFW</td>\n",
       "      <td>15304</td>\n",
       "      <td>13764</td>\n",
       "      <td>15496</td>\n",
       "      <td>14207</td>\n",
       "      <td>15470</td>\n",
       "    </tr>\n",
       "    <tr>\n",
       "      <th>3</th>\n",
       "      <td>LAX</td>\n",
       "      <td>17314</td>\n",
       "      <td>15569</td>\n",
       "      <td>18077</td>\n",
       "      <td>17433</td>\n",
       "      <td>18169</td>\n",
       "    </tr>\n",
       "    <tr>\n",
       "      <th>4</th>\n",
       "      <td>ORD</td>\n",
       "      <td>18782</td>\n",
       "      <td>17775</td>\n",
       "      <td>21993</td>\n",
       "      <td>21464</td>\n",
       "      <td>23366</td>\n",
       "    </tr>\n",
       "  </tbody>\n",
       "</table>\n",
       "</div>"
      ],
      "text/plain": [
       "  Airport  January  February  March  April    May\n",
       "0     ATL    30138     27623  32457  31122  32157\n",
       "1     DEN    17030     15533  18659  17704  19122\n",
       "2     DFW    15304     13764  15496  14207  15470\n",
       "3     LAX    17314     15569  18077  17433  18169\n",
       "4     ORD    18782     17775  21993  21464  23366"
      ]
     },
     "execution_count": 76,
     "metadata": {},
     "output_type": "execute_result"
    }
   ],
   "source": [
    "departures"
   ]
  },
  {
   "cell_type": "code",
   "execution_count": 80,
   "metadata": {},
   "outputs": [
    {
     "ename": "TypeError",
     "evalue": "scatter() missing 1 required positional argument: 'y'",
     "output_type": "error",
     "traceback": [
      "\u001b[1;31m---------------------------------------------------------------------------\u001b[0m",
      "\u001b[1;31mTypeError\u001b[0m                                 Traceback (most recent call last)",
      "\u001b[1;32m<ipython-input-80-9e8507d97476>\u001b[0m in \u001b[0;36m<module>\u001b[1;34m()\u001b[0m\n\u001b[1;32m----> 1\u001b[1;33m \u001b[0mplt\u001b[0m\u001b[1;33m.\u001b[0m\u001b[0mscatter\u001b[0m\u001b[1;33m(\u001b[0m\u001b[0mdepartures\u001b[0m\u001b[1;33m.\u001b[0m\u001b[0mJanuary\u001b[0m\u001b[1;33m)\u001b[0m\u001b[1;33m\u001b[0m\u001b[0m\n\u001b[0m",
      "\u001b[1;31mTypeError\u001b[0m: scatter() missing 1 required positional argument: 'y'"
     ]
    }
   ],
   "source": [
    "plt.scatter(departures.Airport)"
   ]
  },
  {
   "cell_type": "markdown",
   "metadata": {},
   "source": [
    "**Q.** Which airports have the highest percentage of flights delayed more than an hour?"
   ]
  },
  {
   "cell_type": "code",
   "execution_count": null,
   "metadata": {
    "collapsed": true
   },
   "outputs": [],
   "source": []
  },
  {
   "cell_type": "markdown",
   "metadata": {},
   "source": [
    "**Q.** Total number of tail numbers for each airline?"
   ]
  },
  {
   "cell_type": "code",
   "execution_count": null,
   "metadata": {
    "collapsed": true
   },
   "outputs": [],
   "source": []
  },
  {
   "cell_type": "markdown",
   "metadata": {},
   "source": [
    "**Q.** Which airlines have the most departures?"
   ]
  },
  {
   "cell_type": "code",
   "execution_count": null,
   "metadata": {
    "collapsed": true
   },
   "outputs": [],
   "source": []
  }
 ],
 "metadata": {
  "anaconda-cloud": {},
  "kernelspec": {
   "display_name": "Python 3",
   "language": "python",
   "name": "python3"
  },
  "language_info": {
   "codemirror_mode": {
    "name": "ipython",
    "version": 3
   },
   "file_extension": ".py",
   "mimetype": "text/x-python",
   "name": "python",
   "nbconvert_exporter": "python",
   "pygments_lexer": "ipython3",
   "version": "3.6.1"
  }
 },
 "nbformat": 4,
 "nbformat_minor": 2
}
