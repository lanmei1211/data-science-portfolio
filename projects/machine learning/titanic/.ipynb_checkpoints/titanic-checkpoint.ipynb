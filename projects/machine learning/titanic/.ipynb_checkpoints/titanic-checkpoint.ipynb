{
 "cells": [
  {
   "cell_type": "markdown",
   "metadata": {},
   "source": [
    "# Kaggle - Titanic Machine Learning from Disaster"
   ]
  },
  {
   "cell_type": "code",
   "execution_count": 1,
   "metadata": {
    "collapsed": true
   },
   "outputs": [],
   "source": [
    "import pandas as pd\n",
    "import numpy as np\n",
    "import matplotlib.pyplot as plt\n",
    "import seaborn as sb\n",
    "from sklearn.model_selection import train_test_split\n",
    "from sklearn.linear_model import LogisticRegression\n",
    "from sklearn.ensemble import RandomForestClassifier\n",
    "from sklearn.tree import DecisionTreeClassifier\n",
    "from sklearn.svm import SVC\n",
    "from sklearn.model_selection import GridSearchCV\n",
    "from sklearn.model_selection import cross_val_score\n",
    "%matplotlib inline"
   ]
  },
  {
   "cell_type": "markdown",
   "metadata": {},
   "source": [
    "### Data Cleaning and Analysis"
   ]
  },
  {
   "cell_type": "code",
   "execution_count": null,
   "metadata": {
    "collapsed": true
   },
   "outputs": [],
   "source": [
    "data = pd.read_csv('train.csv')"
   ]
  },
  {
   "cell_type": "code",
   "execution_count": null,
   "metadata": {},
   "outputs": [],
   "source": [
    "data.info()"
   ]
  },
  {
   "cell_type": "markdown",
   "metadata": {},
   "source": [
    "There are missing values in columns Age, Cabin and Embarked. Let's look at the distributions of the data"
   ]
  },
  {
   "cell_type": "code",
   "execution_count": null,
   "metadata": {},
   "outputs": [],
   "source": [
    "data.describe()"
   ]
  },
  {
   "cell_type": "markdown",
   "metadata": {},
   "source": [
    "In order to train some machine learning algorithm, we need to replace the alphabets in the Embarked column by numbers. We'll replace S, C, and Q by 0, 1, and 2. Similarly, we replace male and female in the Sex column by 1 and 0 repectively. We also drop the Cabin column as we don't use it for training our ML algorithm."
   ]
  },
  {
   "cell_type": "code",
   "execution_count": null,
   "metadata": {
    "collapsed": true
   },
   "outputs": [],
   "source": [
    "data.replace({'Cabin' : { None : 'Unknown' }}, inplace=True)\n",
    "data['Cabin_modified']=[i[0].upper() for i in list(data['Cabin'])]\n",
    "sex = {'male':1,'female':0}\n",
    "embarked = {'S':0,'C':1,'Q':2}\n",
    "cabin_class = {'U':0, 'C':1, 'E':2, 'G':3, 'D':4, 'A':5, 'B':6, 'F':7, 'T':8}\n",
    "data['sex_type'] = data['Sex'].map(sex)\n",
    "data['embarked_numeric'] = data['Embarked'].map(embarked)\n",
    "data['Cabin_Class'] = data['Cabin_modified'].map(cabin_class)"
   ]
  },
  {
   "cell_type": "markdown",
   "metadata": {},
   "source": [
    "There are 2 missing values in the column Embarked and multiple missing values (~700) in the Age column. Let us try to estimate these missing values"
   ]
  },
  {
   "cell_type": "code",
   "execution_count": null,
   "metadata": {},
   "outputs": [],
   "source": [
    "sb.distplot(data['embarked_numeric'].dropna())"
   ]
  },
  {
   "cell_type": "markdown",
   "metadata": {},
   "source": [
    "Looking at the above distribution, it is clear that most passengers belonged to the class 0. Let us assume that the embarked_numeric value of the missing data is 0"
   ]
  },
  {
   "cell_type": "code",
   "execution_count": null,
   "metadata": {},
   "outputs": [],
   "source": [
    "data[data['Embarked'].isnull()]"
   ]
  },
  {
   "cell_type": "code",
   "execution_count": null,
   "metadata": {
    "collapsed": true
   },
   "outputs": [],
   "source": [
    "data.replace({'embarked_numeric' : { None : 0 }}, inplace=True)\n",
    "data.drop('Embarked',1,inplace=True)"
   ]
  },
  {
   "cell_type": "code",
   "execution_count": null,
   "metadata": {},
   "outputs": [],
   "source": [
    "data.info()"
   ]
  },
  {
   "cell_type": "code",
   "execution_count": null,
   "metadata": {},
   "outputs": [],
   "source": [
    "data.describe()"
   ]
  },
  {
   "cell_type": "markdown",
   "metadata": {},
   "source": [
    "The age distributions on the basis of sex and embarked numeric value is shown below. We can use this distribution to estimate the values of the missing data"
   ]
  },
  {
   "cell_type": "code",
   "execution_count": null,
   "metadata": {},
   "outputs": [],
   "source": [
    "d = data.dropna()\n",
    "sb.boxplot(x=d.embarked_numeric,y=d.Age,hue=d.Sex)"
   ]
  },
  {
   "cell_type": "code",
   "execution_count": null,
   "metadata": {},
   "outputs": [],
   "source": [
    "sb.distplot(d.Age)"
   ]
  },
  {
   "cell_type": "code",
   "execution_count": null,
   "metadata": {
    "collapsed": true
   },
   "outputs": [],
   "source": [
    "data['Age'] = data['Age'].groupby([data['sex_type'], data['Pclass'],data['embarked_numeric']]).apply(lambda x: x.fillna(x.median()))"
   ]
  },
  {
   "cell_type": "code",
   "execution_count": null,
   "metadata": {},
   "outputs": [],
   "source": [
    "sb.distplot(data.Age)"
   ]
  },
  {
   "cell_type": "code",
   "execution_count": null,
   "metadata": {},
   "outputs": [],
   "source": [
    "data.info()"
   ]
  },
  {
   "cell_type": "markdown",
   "metadata": {},
   "source": [
    "### Data Loading for ML"
   ]
  },
  {
   "cell_type": "code",
   "execution_count": null,
   "metadata": {
    "collapsed": true
   },
   "outputs": [],
   "source": [
    "y = data[['Survived']]"
   ]
  },
  {
   "cell_type": "code",
   "execution_count": null,
   "metadata": {
    "collapsed": true
   },
   "outputs": [],
   "source": [
    "X = data[['Pclass','sex_type','embarked_numeric','Parch','SibSp','Age','Fare','Cabin_Class']]"
   ]
  },
  {
   "cell_type": "code",
   "execution_count": null,
   "metadata": {
    "collapsed": true
   },
   "outputs": [],
   "source": [
    "X_train, X_test, y_train, y_test = train_test_split(X, y, test_size=0.33)"
   ]
  },
  {
   "cell_type": "markdown",
   "metadata": {},
   "source": [
    "### Decision Tree Classifier"
   ]
  },
  {
   "cell_type": "markdown",
   "metadata": {},
   "source": [
    "parameters = {'criterion':['gini','entropy'],'splitter':['best','random']}\n",
    "abc = DecisionTreeClassifier()\n",
    "clf = GridSearchCV(abc,parameters)\n",
    "clf.fit(X_train,y_train.values.ravel())\n",
    "print(clf.best_estimator_)\n",
    "print(clf.best_score_)"
   ]
  },
  {
   "cell_type": "markdown",
   "metadata": {},
   "source": [
    "clf.score(X_test,y_test)"
   ]
  },
  {
   "cell_type": "code",
   "execution_count": null,
   "metadata": {},
   "outputs": [],
   "source": [
    "DecisionTree = DecisionTreeClassifier(criterion='entropy',splitter='best')\n",
    "scores = cross_val_score(DecisionTree, X, y.values.ravel(), cv=5)\n",
    "print(scores)\n",
    "print('Mean Accuracy: %f'%(np.mean(scores)))"
   ]
  },
  {
   "cell_type": "markdown",
   "metadata": {},
   "source": [
    "### Random Forests"
   ]
  },
  {
   "cell_type": "code",
   "execution_count": null,
   "metadata": {},
   "outputs": [],
   "source": [
    "parameters = {'max_depth' : [4, 6, 8],\n",
    "                 'n_estimators': [50, 10],\n",
    "                 'max_features': ['sqrt', 'auto', 'log2'],\n",
    "                 'min_samples_split': [2, 3, 10],\n",
    "                 'min_samples_leaf': [1, 3, 10],\n",
    "                 'bootstrap': [True, False]}\n",
    "abc = RandomForestClassifier()\n",
    "clf = GridSearchCV(abc,parameters)\n",
    "clf.fit(X,y.values.ravel())\n",
    "print(clf.best_estimator_)\n",
    "print(clf.best_score_)"
   ]
  },
  {
   "cell_type": "code",
   "execution_count": null,
   "metadata": {},
   "outputs": [],
   "source": [
    "RandomForest = RandomForestClassifier(bootstrap=True, class_weight=None, criterion='gini',\n",
    "            max_depth=6, max_features='sqrt', max_leaf_nodes=None,\n",
    "            min_impurity_split=1e-07, min_samples_leaf=3,\n",
    "            min_samples_split=3, min_weight_fraction_leaf=0.0,\n",
    "            n_estimators=50, n_jobs=1, oob_score=False, random_state=None,\n",
    "            verbose=0, warm_start=False)\n",
    "scores = cross_val_score(RandomForest, X, y.values.ravel(), cv=10)\n",
    "print(scores)\n",
    "print('Mean Accuracy: %f'%(np.mean(scores)))"
   ]
  },
  {
   "cell_type": "code",
   "execution_count": null,
   "metadata": {},
   "outputs": [],
   "source": [
    "RandomForest.fit(X, y.values.ravel())"
   ]
  },
  {
   "cell_type": "markdown",
   "metadata": {},
   "source": [
    "### Support Vector Machines"
   ]
  },
  {
   "cell_type": "code",
   "execution_count": null,
   "metadata": {
    "collapsed": true
   },
   "outputs": [],
   "source": [
    "from sklearn.model_selection import StratifiedShuffleSplit"
   ]
  },
  {
   "cell_type": "markdown",
   "metadata": {},
   "source": [
    "C_range = np.logspace(-2, 10, 13)\n",
    "gamma_range = np.logspace(-9, 3, 13)\n",
    "param_grid = dict(gamma=gamma_range, C=C_range)\n",
    "cv = StratifiedShuffleSplit(n_splits=5, test_size=0.2, random_state=42)\n",
    "grid = GridSearchCV(SVC(), param_grid=param_grid, cv=cv)\n",
    "grid.fit(X_train, y_train.ravel)"
   ]
  },
  {
   "cell_type": "code",
   "execution_count": null,
   "metadata": {},
   "outputs": [],
   "source": [
    "SupportVector = SVC(C=100.0, cache_size=200, class_weight=None, coef0=0.0,\n",
    "                    decision_function_shape=None, degree=3, gamma=0.0001, kernel='rbf',\n",
    "                    max_iter=-1, probability=False, random_state=None, shrinking=True,\n",
    "                    tol=0.001, verbose=False)\n",
    "scores = cross_val_score(SupportVector, X, y.values.ravel(), cv=10)\n",
    "print(scores)\n",
    "print('Mean Accuracy: %f'%(np.mean(scores)))"
   ]
  },
  {
   "cell_type": "code",
   "execution_count": null,
   "metadata": {},
   "outputs": [],
   "source": [
    "SupportVector.fit(X, y.values.ravel())"
   ]
  },
  {
   "cell_type": "markdown",
   "metadata": {},
   "source": [
    "### Deep Learning"
   ]
  },
  {
   "cell_type": "code",
   "execution_count": null,
   "metadata": {
    "collapsed": true
   },
   "outputs": [],
   "source": [
    "from keras.models import Sequential\n",
    "from keras.layers.core import Dense, Activation, Dropout\n",
    "from keras.utils import np_utils\n",
    "from keras.wrappers.scikit_learn import KerasClassifier"
   ]
  },
  {
   "cell_type": "code",
   "execution_count": null,
   "metadata": {
    "collapsed": true
   },
   "outputs": [],
   "source": [
    "def create_model(optimizer='adam'):\n",
    "    model = Sequential()\n",
    "    model.add(Dense(64, input_shape=(6,)))\n",
    "    model.add(Activation('sigmoid'))\n",
    "    model.add(Dropout(0.25))\n",
    "    model.add(Dense(64))\n",
    "    model.add(Activation('sigmoid'))\n",
    "    model.add(Dropout(0.25))\n",
    "    model.add(Dense(1))\n",
    "    model.add(Activation('sigmoid'))\n",
    "    model.compile(optimizer=optimizer, loss='binary_crossentropy', metrics=[\"accuracy\"])\n",
    "    return model"
   ]
  },
  {
   "cell_type": "code",
   "execution_count": null,
   "metadata": {
    "collapsed": true
   },
   "outputs": [],
   "source": [
    "model = KerasClassifier(build_fn=create_model,epochs=100,batch_size=64, verbose=0)\n",
    "optimizer = ['SGD', 'RMSprop', 'Adagrad', 'Adadelta', 'Adam', 'Adamax', 'Nadam']\n",
    "param_grid = dict(optimizer=optimizer)\n",
    "grid = GridSearchCV(estimator=model, param_grid=param_grid)\n",
    "grid_results = grid.fit(np.array(X_train),np.array(y_train))"
   ]
  },
  {
   "cell_type": "code",
   "execution_count": null,
   "metadata": {
    "collapsed": true
   },
   "outputs": [],
   "source": [
    "print(\"Best: %f using %s\" % (grid_results.best_score_, grid_results.best_params_))"
   ]
  },
  {
   "cell_type": "code",
   "execution_count": null,
   "metadata": {
    "collapsed": true
   },
   "outputs": [],
   "source": [
    "model = KerasClassifier(build_fn=create_model,epochs=100,batch_size=64, verbose=0)\n",
    "model.fit(np.array(X_train),np.array(y_train))\n",
    "model.score(np.array(X_test),np.array(y_test))"
   ]
  },
  {
   "cell_type": "code",
   "execution_count": null,
   "metadata": {
    "collapsed": true
   },
   "outputs": [],
   "source": [
    "model = KerasClassifier(build_fn=create_model,epochs=100,batch_size=64, verbose=0)\n",
    "scores = cross_val_score(model,np.array(X),np.array(y), cv=10)\n",
    "print(scores)\n",
    "print('Mean Accuracy: %f'%(np.mean(scores)))"
   ]
  },
  {
   "cell_type": "code",
   "execution_count": null,
   "metadata": {
    "collapsed": true
   },
   "outputs": [],
   "source": [
    "model = KerasClassifier(build_fn=create_model,epochs=100,batch_size=64, verbose=0)\n",
    "model.fit(np.array(X),np.array(y))"
   ]
  },
  {
   "cell_type": "markdown",
   "metadata": {},
   "source": [
    "### Train Dataset"
   ]
  },
  {
   "cell_type": "code",
   "execution_count": 64,
   "metadata": {
    "collapsed": true
   },
   "outputs": [],
   "source": [
    "data = pd.read_csv('train.csv')\n",
    "data.replace({'Cabin' : { None : 'Unknown' }}, inplace=True)\n",
    "data['Cabin_modified']=[i[0].upper() for i in list(data['Cabin'])]\n",
    "sex = {'male':1,'female':0}\n",
    "embarked = {'S':0,'C':1,'Q':2}\n",
    "cabin_class = {'U':0, 'C':1, 'E':2, 'G':3, 'D':4, 'A':5, 'B':6, 'F':7, 'T':8}\n",
    "data['sex_type'] = data['Sex'].map(sex)\n",
    "data['embarked_numeric'] = data['Embarked'].map(embarked)\n",
    "data['Cabin_Class'] = data['Cabin_modified'].map(cabin_class)\n",
    "data.replace({'embarked_numeric' : { None : 0 }}, inplace=True)\n",
    "data.drop('Embarked',1,inplace=True)\n",
    "data['Age'] = data['Age'].groupby([data['sex_type'], data['Pclass'],data['embarked_numeric']]).apply(lambda x: x.fillna(x.median()))\n",
    "data[data['Fare'].isnull()]\n",
    "data['Fare'] = data['Fare'].groupby([data['sex_type'], data['Pclass'],data['embarked_numeric']]).apply(lambda x: x.fillna(x.median()))\n",
    "data['Cabin_Class_U'] = data['Cabin_Class'].map({0:1})\n",
    "data.replace({'Cabin_Class_U' : { None : 0 }}, inplace=True)\n",
    "data['Cabin_Class_C'] = data['Cabin_Class'].map({1:1})\n",
    "data.replace({'Cabin_Class_C' : { None : 0 }}, inplace=True)\n",
    "data['Cabin_Class_E'] = data['Cabin_Class'].map({2:1})\n",
    "data.replace({'Cabin_Class_E' : { None : 0 }}, inplace=True)\n",
    "data['Cabin_Class_G'] = data['Cabin_Class'].map({3:1})\n",
    "data.replace({'Cabin_Class_G' : { None : 0 }}, inplace=True)\n",
    "data['Cabin_Class_D'] = data['Cabin_Class'].map({4:1})\n",
    "data.replace({'Cabin_Class_D' : { None : 0 }}, inplace=True)\n",
    "data['Cabin_Class_A'] = data['Cabin_Class'].map({5:1})\n",
    "data.replace({'Cabin_Class_A' : { None : 0 }}, inplace=True)\n",
    "data['Cabin_Class_B'] = data['Cabin_Class'].map({6:1})\n",
    "data.replace({'Cabin_Class_B' : { None : 0 }}, inplace=True)\n",
    "data['Cabin_Class_F'] = data['Cabin_Class'].map({7:1})\n",
    "data.replace({'Cabin_Class_F' : { None : 0 }}, inplace=True)\n",
    "data['Cabin_Class_T'] = data['Cabin_Class'].map({8:1})\n",
    "data.replace({'Cabin_Class_T' : { None : 0 }}, inplace=True)\n",
    "data['Embarked_S'] = data['embarked_numeric'].map({0:1})\n",
    "data.replace({'Embarked_S' : { None : 0 }}, inplace=True)\n",
    "data['Embarked_C'] = data['embarked_numeric'].map({1:1})\n",
    "data.replace({'Embarked_C' : { None : 0 }}, inplace=True)\n",
    "data['Embarked_Q'] = data['embarked_numeric'].map({2:1})\n",
    "data.replace({'Embarked_Q' : { None : 0 }}, inplace=True)\n",
    "data['Pclass1'] = data['Pclass'].map({1:1})\n",
    "data.replace({'Pclass1' : { None : 0 }}, inplace=True)\n",
    "data['Pclass2'] = data['Pclass'].map({2:1})\n",
    "data.replace({'Pclass2' : { None : 0 }}, inplace=True)\n",
    "data['Pclass3'] = data['Pclass'].map({3:1})\n",
    "data.replace({'Pclass3' : { None : 0 }}, inplace=True)\n",
    "data['Title'] = data['Name'].map(lambda name:name.split(',')[1].split('.')[0].strip())\n",
    "Title_Dictionary = {\n",
    "                        \"Capt\":       \"Officer\",\n",
    "                        \"Col\":        \"Officer\",\n",
    "                        \"Major\":      \"Officer\",\n",
    "                        \"Jonkheer\":   \"Royalty\",\n",
    "                        \"Don\":        \"Royalty\",\n",
    "                        \"Sir\" :       \"Royalty\",\n",
    "                        \"Dr\":         \"Officer\",\n",
    "                        \"Rev\":        \"Officer\",\n",
    "                        \"the Countess\":\"Royalty\",\n",
    "                        \"Dona\":       \"Royalty\",\n",
    "                        \"Mme\":        \"Mrs\",\n",
    "                        \"Mlle\":       \"Miss\",\n",
    "                        \"Ms\":         \"Mrs\",\n",
    "                        \"Mr\" :        \"Mr\",\n",
    "                        \"Mrs\" :       \"Mrs\",\n",
    "                        \"Miss\" :      \"Miss\",\n",
    "                        \"Master\" :    \"Master\",\n",
    "                        \"Lady\" :      \"Royalty\"\n",
    "                        }    \n",
    "data['Title'] = data.Title.map(Title_Dictionary)\n",
    "titles_dummies = pd.get_dummies(data['Title'],prefix='Title')\n",
    "data = pd.concat([data,titles_dummies],axis=1)"
   ]
  },
  {
   "cell_type": "code",
   "execution_count": 66,
   "metadata": {},
   "outputs": [
    {
     "name": "stdout",
     "output_type": "stream",
     "text": [
      "[ 0.78888889  0.82222222  0.7752809   0.86516854  0.86516854  0.82022472\n",
      "  0.84269663  0.78651685  0.85393258  0.86363636]\n",
      "Mean Accuracy: 0.828374\n"
     ]
    }
   ],
   "source": [
    "RandomForest = RandomForestClassifier(bootstrap=True, class_weight=None, criterion='gini',\n",
    "            max_depth=6, max_features='sqrt', max_leaf_nodes=None,\n",
    "            min_impurity_split=1e-07, min_samples_leaf=3,\n",
    "            min_samples_split=3, min_weight_fraction_leaf=0.0,\n",
    "            n_estimators=100, n_jobs=1, oob_score=False, random_state=None,\n",
    "            verbose=0, warm_start=False)\n",
    "scores = cross_val_score(RandomForest, X, y.values.ravel(), cv=10)\n",
    "print(scores)\n",
    "print('Mean Accuracy: %f'%(np.mean(scores)))"
   ]
  },
  {
   "cell_type": "code",
   "execution_count": 67,
   "metadata": {},
   "outputs": [
    {
     "data": {
      "text/plain": [
       "RandomForestClassifier(bootstrap=True, class_weight=None, criterion='gini',\n",
       "            max_depth=6, max_features='sqrt', max_leaf_nodes=None,\n",
       "            min_impurity_split=1e-07, min_samples_leaf=3,\n",
       "            min_samples_split=3, min_weight_fraction_leaf=0.0,\n",
       "            n_estimators=100, n_jobs=1, oob_score=False, random_state=None,\n",
       "            verbose=0, warm_start=False)"
      ]
     },
     "execution_count": 67,
     "metadata": {},
     "output_type": "execute_result"
    }
   ],
   "source": [
    "RandomForest.fit(X, y.values.ravel())"
   ]
  },
  {
   "cell_type": "code",
   "execution_count": 73,
   "metadata": {},
   "outputs": [
    {
     "data": {
      "text/plain": [
       "<matplotlib.axes._subplots.AxesSubplot at 0x219cde01048>"
      ]
     },
     "execution_count": 73,
     "metadata": {},
     "output_type": "execute_result"
    },
    {
     "data": {
      "image/png": "[encoded data removed]",
      "text/plain": [
       "<matplotlib.figure.Figure at 0x219ce6202e8>"
      ]
     },
     "metadata": {},
     "output_type": "display_data"
    }
   ],
   "source": [
    "features = pd.DataFrame()\n",
    "features['feature'] = X.columns\n",
    "features['importance'] = list(RandomForest.feature_importances_)\n",
    "features.sort_values(by=['importance'], ascending=True, inplace=True)\n",
    "features.set_index('feature', inplace=True)\n",
    "features.plot(kind='barh', figsize=(20, 20))"
   ]
  },
  {
   "cell_type": "code",
   "execution_count": 74,
   "metadata": {
    "collapsed": true
   },
   "outputs": [],
   "source": [
    "X = data[['sex_type','Title_Mr','Fare','Title_Miss','Title_Mrs','Pclass3','Age','Cabin_Class_U','SibSp','Pclass1','Parch','Pclass2']]\n",
    "y = data['Survived']"
   ]
  },
  {
   "cell_type": "code",
   "execution_count": null,
   "metadata": {
    "collapsed": true
   },
   "outputs": [],
   "source": [
    "parameters = {'max_depth' : [4, 6, 8, 12],\n",
    "                 'n_estimators': [100,50],\n",
    "                 'max_features': ['sqrt', 'auto', 'log2'],\n",
    "                 'min_samples_split': [2, 3, 10],\n",
    "                 'min_samples_leaf': [1, 3, 10],\n",
    "                 'bootstrap': [True, False]}\n",
    "abc = RandomForestClassifier()\n",
    "clf = GridSearchCV(abc,parameters)\n",
    "clf.fit(X,y.values.ravel())\n",
    "print(clf.best_estimator_)\n",
    "print(clf.best_score_)"
   ]
  },
  {
   "cell_type": "markdown",
   "metadata": {},
   "source": [
    "### Test Dataset"
   ]
  },
  {
   "cell_type": "markdown",
   "metadata": {},
   "source": [
    "#### Data Cleaning"
   ]
  },
  {
   "cell_type": "code",
   "execution_count": 48,
   "metadata": {
    "collapsed": true
   },
   "outputs": [],
   "source": [
    "data = pd.read_csv('test.csv')\n",
    "data.replace({'Cabin' : { None : 'Unknown' }}, inplace=True)\n",
    "data['Cabin_modified']=[i[0].upper() for i in list(data['Cabin'])]\n",
    "sex = {'male':1,'female':0}\n",
    "embarked = {'S':0,'C':1,'Q':2}\n",
    "cabin_class = {'U':0, 'C':1, 'E':2, 'G':3, 'D':4, 'A':5, 'B':6, 'F':7, 'T':8}\n",
    "data['sex_type'] = data['Sex'].map(sex)\n",
    "data['embarked_numeric'] = data['Embarked'].map(embarked)\n",
    "data['Cabin_Class'] = data['Cabin_modified'].map(cabin_class)\n",
    "data.replace({'embarked_numeric' : { None : 0 }}, inplace=True)\n",
    "data.drop('Embarked',1,inplace=True)\n",
    "data['Age'] = data['Age'].groupby([data['sex_type'], data['Pclass'],data['embarked_numeric']]).apply(lambda x: x.fillna(x.median()))\n",
    "data[data['Fare'].isnull()]\n",
    "data['Fare'] = data['Fare'].groupby([data['sex_type'], data['Pclass'],data['embarked_numeric']]).apply(lambda x: x.fillna(x.median()))\n",
    "data['Cabin_Class_U'] = data['Cabin_Class'].map({0:1})\n",
    "data.replace({'Cabin_Class_U' : { None : 0 }}, inplace=True)\n",
    "data['Cabin_Class_C'] = data['Cabin_Class'].map({1:1})\n",
    "data.replace({'Cabin_Class_C' : { None : 0 }}, inplace=True)\n",
    "data['Cabin_Class_E'] = data['Cabin_Class'].map({2:1})\n",
    "data.replace({'Cabin_Class_E' : { None : 0 }}, inplace=True)\n",
    "data['Cabin_Class_G'] = data['Cabin_Class'].map({3:1})\n",
    "data.replace({'Cabin_Class_G' : { None : 0 }}, inplace=True)\n",
    "data['Cabin_Class_D'] = data['Cabin_Class'].map({4:1})\n",
    "data.replace({'Cabin_Class_D' : { None : 0 }}, inplace=True)\n",
    "data['Cabin_Class_A'] = data['Cabin_Class'].map({5:1})\n",
    "data.replace({'Cabin_Class_A' : { None : 0 }}, inplace=True)\n",
    "data['Cabin_Class_B'] = data['Cabin_Class'].map({6:1})\n",
    "data.replace({'Cabin_Class_B' : { None : 0 }}, inplace=True)\n",
    "data['Cabin_Class_F'] = data['Cabin_Class'].map({7:1})\n",
    "data.replace({'Cabin_Class_F' : { None : 0 }}, inplace=True)\n",
    "data['Cabin_Class_T'] = data['Cabin_Class'].map({8:1})\n",
    "data.replace({'Cabin_Class_T' : { None : 0 }}, inplace=True)\n",
    "data['Embarked_S'] = data['embarked_numeric'].map({0:1})\n",
    "data.replace({'Embarked_S' : { None : 0 }}, inplace=True)\n",
    "data['Embarked_C'] = data['embarked_numeric'].map({1:1})\n",
    "data.replace({'Embarked_C' : { None : 0 }}, inplace=True)\n",
    "data['Embarked_Q'] = data['embarked_numeric'].map({2:1})\n",
    "data.replace({'Embarked_Q' : { None : 0 }}, inplace=True)\n",
    "data['Pclass1'] = data['Pclass'].map({1:1})\n",
    "data.replace({'Pclass1' : { None : 0 }}, inplace=True)\n",
    "data['Pclass2'] = data['Pclass'].map({2:1})\n",
    "data.replace({'Pclass2' : { None : 0 }}, inplace=True)\n",
    "data['Pclass3'] = data['Pclass'].map({3:1})\n",
    "data.replace({'Pclass3' : { None : 0 }}, inplace=True)\n",
    "data['Title'] = data['Name'].map(lambda name:name.split(',')[1].split('.')[0].strip())\n",
    "Title_Dictionary = {\n",
    "                        \"Capt\":       \"Officer\",\n",
    "                        \"Col\":        \"Officer\",\n",
    "                        \"Major\":      \"Officer\",\n",
    "                        \"Jonkheer\":   \"Royalty\",\n",
    "                        \"Don\":        \"Royalty\",\n",
    "                        \"Sir\" :       \"Royalty\",\n",
    "                        \"Dr\":         \"Officer\",\n",
    "                        \"Rev\":        \"Officer\",\n",
    "                        \"the Countess\":\"Royalty\",\n",
    "                        \"Dona\":       \"Royalty\",\n",
    "                        \"Mme\":        \"Mrs\",\n",
    "                        \"Mlle\":       \"Miss\",\n",
    "                        \"Ms\":         \"Mrs\",\n",
    "                        \"Mr\" :        \"Mr\",\n",
    "                        \"Mrs\" :       \"Mrs\",\n",
    "                        \"Miss\" :      \"Miss\",\n",
    "                        \"Master\" :    \"Master\",\n",
    "                        \"Lady\" :      \"Royalty\"\n",
    "                        }    \n",
    "data['Title'] = data.Title.map(Title_Dictionary)\n",
    "titles_dummies = pd.get_dummies(data['Title'],prefix='Title')\n",
    "data = pd.concat([data,titles_dummies],axis=1)"
   ]
  },
  {
   "cell_type": "code",
   "execution_count": 49,
   "metadata": {},
   "outputs": [],
   "source": [
    "X = data[['Age', 'SibSp', 'Parch','Fare','sex_type','Cabin_Class_U', 'Cabin_Class_C',\n",
    "          'Cabin_Class_E', 'Cabin_Class_G', 'Cabin_Class_D', 'Cabin_Class_A','Cabin_Class_B', 'Cabin_Class_F', 'Cabin_Class_T',\n",
    "          'Embarked_S','Embarked_C', 'Embarked_Q', 'Pclass1', 'Pclass2', 'Pclass3','Title_Master', 'Title_Miss', 'Title_Mr', 'Title_Mrs', 'Title_Officer',\n",
    "       'Title_Royalty']]"
   ]
  },
  {
   "cell_type": "markdown",
   "metadata": {},
   "source": [
    "#### Prediction"
   ]
  },
  {
   "cell_type": "code",
   "execution_count": 50,
   "metadata": {
    "collapsed": true
   },
   "outputs": [],
   "source": [
    "y = RandomForest.predict(np.array(X))"
   ]
  },
  {
   "cell_type": "markdown",
   "metadata": {},
   "source": [
    "### Kaggle Submission"
   ]
  },
  {
   "cell_type": "code",
   "execution_count": 51,
   "metadata": {
    "collapsed": true
   },
   "outputs": [],
   "source": [
    "final = pd.DataFrame(data.PassengerId)\n",
    "final['Survived']=y\n",
    "final.to_csv('titanic.csv',index=None)"
   ]
  }
 ],
 "metadata": {
  "anaconda-cloud": {},
  "kernelspec": {
   "display_name": "Python 3",
   "language": "python",
   "name": "python3"
  },
  "language_info": {
   "codemirror_mode": {
    "name": "ipython",
    "version": 3
   },
   "file_extension": ".py",
   "mimetype": "text/x-python",
   "name": "python",
   "nbconvert_exporter": "python",
   "pygments_lexer": "ipython3",
   "version": "3.5.3"
  }
 },
 "nbformat": 4,
 "nbformat_minor": 2
}
