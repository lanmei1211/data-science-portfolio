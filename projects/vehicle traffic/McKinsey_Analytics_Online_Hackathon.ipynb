{
 "cells": [
  {
   "cell_type": "markdown",
   "metadata": {},
   "source": [
    "# McKinsey Analytics Online Hackathon"
   ]
  },
  {
   "cell_type": "markdown",
   "metadata": {},
   "source": [
    "### Imports"
   ]
  },
  {
   "cell_type": "code",
   "execution_count": 163,
   "metadata": {
    "collapsed": true
   },
   "outputs": [],
   "source": [
    "import pandas as pd\n",
    "import numpy as np\n",
    "from fbprophet import Prophet\n",
    "import matplotlib.pyplot as plt\n",
    "%matplotlib inline\n",
    "plt.rcParams['figure.figsize']=(20,10)\n",
    "plt.style.use('ggplot')"
   ]
  },
  {
   "cell_type": "markdown",
   "metadata": {},
   "source": [
    "### Data Loading and Handling"
   ]
  },
  {
   "cell_type": "code",
   "execution_count": 172,
   "metadata": {
    "collapsed": true
   },
   "outputs": [],
   "source": [
    "sales_df = pd.read_csv('train_aWnotuB.csv', index_col='DateTime', parse_dates=True)\n",
    "\n",
    "j1_train=df_train[df_train['Junction']==1]\n",
    "j2_train=df_train[df_train['Junction']==2]\n",
    "j3_train=df_train[df_train['Junction']==3]\n",
    "j4_train=df_train[df_train['Junction']==4]\n",
    "\n",
    "j1_train.drop(['Junction','ID'],1,inplace=True)\n",
    "j2_train.drop(['Junction','ID'],1,inplace=True)\n",
    "j3_train.drop(['Junction','ID'],1,inplace=True)\n",
    "j4_train.drop(['Junction','ID'],1,inplace=True)"
   ]
  },
  {
   "cell_type": "markdown",
   "metadata": {},
   "source": [
    "### Junction 1"
   ]
  },
  {
   "cell_type": "code",
   "execution_count": 173,
   "metadata": {
    "collapsed": true
   },
   "outputs": [],
   "source": [
    "df = j1_train.reset_index()\n",
    "df=df.rename(columns={'DateTime':'ds', 'Vehicles':'y'})\n",
    "df['y'] = np.log(df['y'])"
   ]
  },
  {
   "cell_type": "code",
   "execution_count": 174,
   "metadata": {},
   "outputs": [],
   "source": [
    "model = Prophet(yearly_seasonality=True)\n",
    "model.add_seasonality(name='monthly', period=30.5, fourier_order=5)\n",
    "model.fit(df);"
   ]
  },
  {
   "cell_type": "code",
   "execution_count": 175,
   "metadata": {
    "collapsed": true
   },
   "outputs": [],
   "source": [
    "future = model.make_future_dataframe(periods=2952,freq='H')\n",
    "forecast = model.predict(future)"
   ]
  },
  {
   "cell_type": "code",
   "execution_count": 176,
   "metadata": {},
   "outputs": [],
   "source": [
    "df.set_index('ds', inplace=True)\n",
    "forecast.set_index('ds', inplace=True)\n",
    "viz_df_j1 = j1_train.join(forecast[['yhat', 'yhat_lower','yhat_upper']], how = 'outer')\n",
    "viz_df_j1['yhat_rescaled'] = np.exp(viz_df['yhat'])"
   ]
  },
  {
   "cell_type": "code",
   "execution_count": 181,
   "metadata": {},
   "outputs": [],
   "source": [
    "junction1=viz_df_j1[-2952:]\n",
    "junction1['Vehicles'] = junction1['yhat_rescaled']\n",
    "junction1.drop(['yhat','yhat_lower','yhat_upper','yhat_rescaled'],1,inplace=True)"
   ]
  },
  {
   "cell_type": "markdown",
   "metadata": {},
   "source": [
    "### Junction 2"
   ]
  },
  {
   "cell_type": "code",
   "execution_count": 183,
   "metadata": {
    "collapsed": true
   },
   "outputs": [],
   "source": [
    "df = j2_train.reset_index()\n",
    "df=df.rename(columns={'DateTime':'ds', 'Vehicles':'y'})\n",
    "df['y'] = np.log(df['y'])"
   ]
  },
  {
   "cell_type": "code",
   "execution_count": 184,
   "metadata": {
    "collapsed": true
   },
   "outputs": [],
   "source": [
    "model = Prophet(yearly_seasonality=True)\n",
    "model.add_seasonality(name='monthly', period=30.5, fourier_order=5)\n",
    "model.fit(df);"
   ]
  },
  {
   "cell_type": "code",
   "execution_count": 185,
   "metadata": {
    "collapsed": true
   },
   "outputs": [],
   "source": [
    "future = model.make_future_dataframe(periods=2952,freq='H')\n",
    "forecast = model.predict(future)"
   ]
  },
  {
   "cell_type": "code",
   "execution_count": 186,
   "metadata": {
    "collapsed": true
   },
   "outputs": [],
   "source": [
    "df.set_index('ds', inplace=True)\n",
    "forecast.set_index('ds', inplace=True)\n",
    "viz_df_j2 = j2_train.join(forecast[['yhat', 'yhat_lower','yhat_upper']], how = 'outer')\n",
    "viz_df_j2['yhat_rescaled'] = np.exp(viz_df_j2['yhat'])"
   ]
  },
  {
   "cell_type": "code",
   "execution_count": 189,
   "metadata": {},
   "outputs": [],
   "source": [
    "junction2=viz_df_j2[-2952:]\n",
    "junction2['Vehicles'] = junction2['yhat_rescaled']\n",
    "junction2.drop(['yhat','yhat_lower','yhat_upper','yhat_rescaled'],1,inplace=True)"
   ]
  },
  {
   "cell_type": "markdown",
   "metadata": {},
   "source": [
    "### Junction 3"
   ]
  },
  {
   "cell_type": "code",
   "execution_count": 265,
   "metadata": {
    "collapsed": true
   },
   "outputs": [],
   "source": [
    "df = j3_train.reset_index()\n",
    "df=df.rename(columns={'DateTime':'ds', 'Vehicles':'y'})\n",
    "df['y'] = np.log(df['y'])\n",
    "df['cap'] = 6"
   ]
  },
  {
   "cell_type": "code",
   "execution_count": 266,
   "metadata": {},
   "outputs": [
    {
     "name": "stderr",
     "output_type": "stream",
     "text": [
      "INFO:fbprophet.forecaster:Disabling yearly seasonality. Run prophet with yearly_seasonality=True to override this.\n"
     ]
    }
   ],
   "source": [
    "model = Prophet(growth='logistic')\n",
    "model.add_seasonality(name='monthly', period=30.5, fourier_order=5)\n",
    "model.fit(df);"
   ]
  },
  {
   "cell_type": "code",
   "execution_count": 267,
   "metadata": {
    "collapsed": true
   },
   "outputs": [],
   "source": [
    "future = model.make_future_dataframe(periods=2952,freq='H')\n",
    "future['cap'] = 6\n",
    "forecast = model.predict(future)"
   ]
  },
  {
   "cell_type": "code",
   "execution_count": 268,
   "metadata": {
    "collapsed": true
   },
   "outputs": [],
   "source": [
    "df.set_index('ds', inplace=True)\n",
    "forecast.set_index('ds', inplace=True)\n",
    "viz_df_j3 = j3_train.join(forecast[['yhat', 'yhat_lower','yhat_upper']], how = 'outer')\n",
    "viz_df_j3['yhat_rescaled'] = np.exp(viz_df_j3['yhat'])"
   ]
  },
  {
   "cell_type": "code",
   "execution_count": 269,
   "metadata": {
    "collapsed": true
   },
   "outputs": [],
   "source": [
    "junction3=viz_df_j3[-2952:]\n",
    "junction3['Vehicles'] = junction3['yhat_rescaled']\n",
    "junction3.drop(['yhat','yhat_lower','yhat_upper','yhat_rescaled'],1,inplace=True)"
   ]
  },
  {
   "cell_type": "markdown",
   "metadata": {},
   "source": [
    "### Junction 4"
   ]
  },
  {
   "cell_type": "code",
   "execution_count": 257,
   "metadata": {
    "collapsed": true
   },
   "outputs": [],
   "source": [
    "df = j4_train.reset_index()\n",
    "df=df.rename(columns={'DateTime':'ds', 'Vehicles':'y'})\n",
    "df['y'] = np.log(df['y'])\n",
    "df['cap'] = 4"
   ]
  },
  {
   "cell_type": "code",
   "execution_count": 258,
   "metadata": {},
   "outputs": [
    {
     "name": "stderr",
     "output_type": "stream",
     "text": [
      "INFO:fbprophet.forecaster:Disabling yearly seasonality. Run prophet with yearly_seasonality=True to override this.\n"
     ]
    }
   ],
   "source": [
    "model = Prophet(growth='logistic')\n",
    "model.add_seasonality(name='monthly', period=30.5, fourier_order=5)\n",
    "model.fit(df);"
   ]
  },
  {
   "cell_type": "code",
   "execution_count": 259,
   "metadata": {
    "collapsed": true
   },
   "outputs": [],
   "source": [
    "future = model.make_future_dataframe(periods=2952,freq='H')\n",
    "future['cap'] = 4\n",
    "forecast = model.predict(future)"
   ]
  },
  {
   "cell_type": "code",
   "execution_count": 260,
   "metadata": {
    "collapsed": true
   },
   "outputs": [],
   "source": [
    "df.set_index('ds', inplace=True)\n",
    "forecast.set_index('ds', inplace=True)\n",
    "viz_df_j4 = j4_train.join(forecast[['yhat', 'yhat_lower','yhat_upper']], how = 'outer')\n",
    "viz_df_j4['yhat_rescaled'] = np.exp(viz_df_j4['yhat'])"
   ]
  },
  {
   "cell_type": "code",
   "execution_count": 261,
   "metadata": {
    "collapsed": true
   },
   "outputs": [],
   "source": [
    "junction4=viz_df_j4[-2952:]\n",
    "junction4['Vehicles'] = junction4['yhat_rescaled']\n",
    "junction4.drop(['yhat','yhat_lower','yhat_upper','yhat_rescaled'],1,inplace=True)"
   ]
  },
  {
   "cell_type": "markdown",
   "metadata": {},
   "source": [
    "### Solution File"
   ]
  },
  {
   "cell_type": "code",
   "execution_count": 272,
   "metadata": {
    "collapsed": true
   },
   "outputs": [],
   "source": [
    "junction1['Junction']=1\n",
    "junction2['Junction']=2\n",
    "junction3['Junction']=3\n",
    "junction4['Junction']=4"
   ]
  },
  {
   "cell_type": "code",
   "execution_count": 274,
   "metadata": {},
   "outputs": [],
   "source": [
    "junction1['DateTime']=junction1.index\n",
    "junction1=junction1[['DateTime','Junction','Vehicles']]\n",
    "junction1.reset_index(drop=True,inplace=True)"
   ]
  },
  {
   "cell_type": "code",
   "execution_count": 283,
   "metadata": {
    "collapsed": true
   },
   "outputs": [],
   "source": [
    "junction2['DateTime']=junction2.index\n",
    "junction2=junction2[['DateTime','Junction','Vehicles']]\n",
    "junction2.reset_index(drop=True,inplace=True)"
   ]
  },
  {
   "cell_type": "code",
   "execution_count": 284,
   "metadata": {
    "collapsed": true
   },
   "outputs": [],
   "source": [
    "junction3['DateTime']=junction3.index\n",
    "junction3=junction3[['DateTime','Junction','Vehicles']]\n",
    "junction3.reset_index(drop=True,inplace=True)"
   ]
  },
  {
   "cell_type": "code",
   "execution_count": 285,
   "metadata": {
    "collapsed": true
   },
   "outputs": [],
   "source": [
    "junction4['DateTime']=junction4.index\n",
    "junction4=junction4[['DateTime','Junction','Vehicles']]\n",
    "junction4.reset_index(drop=True,inplace=True)"
   ]
  },
  {
   "cell_type": "code",
   "execution_count": 287,
   "metadata": {},
   "outputs": [],
   "source": [
    "final_forecast=junction1.append(junction2,ignore_index=True)\n",
    "final_forecast=final_forecast.append(junction3,ignore_index=True)\n",
    "final_forecast=final_forecast.append(junction4,ignore_index=True)"
   ]
  },
  {
   "cell_type": "code",
   "execution_count": 290,
   "metadata": {
    "collapsed": true
   },
   "outputs": [],
   "source": [
    "test=pd.read_csv('test_BdBKkAj.csv')"
   ]
  },
  {
   "cell_type": "code",
   "execution_count": 292,
   "metadata": {},
   "outputs": [],
   "source": [
    "test['Vehicles']=final_forecast['Vehicles']"
   ]
  },
  {
   "cell_type": "code",
   "execution_count": 293,
   "metadata": {
    "collapsed": true
   },
   "outputs": [],
   "source": [
    "test.to_csv('final_forecast.csv')"
   ]
  },
  {
   "cell_type": "code",
   "execution_count": null,
   "metadata": {
    "collapsed": true
   },
   "outputs": [],
   "source": []
  }
 ],
 "metadata": {
  "kernelspec": {
   "display_name": "Python 3",
   "language": "python",
   "name": "python3"
  },
  "language_info": {
   "codemirror_mode": {
    "name": "ipython",
    "version": 3
   },
   "file_extension": ".py",
   "mimetype": "text/x-python",
   "name": "python",
   "nbconvert_exporter": "python",
   "pygments_lexer": "ipython3",
   "version": "3.6.1"
  }
 },
 "nbformat": 4,
 "nbformat_minor": 2
}
