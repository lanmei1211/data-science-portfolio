{
 "cells": [
  {
   "cell_type": "markdown",
   "metadata": {},
   "source": [
    "# Analysis of Indeed.com Job Postings"
   ]
  },
  {
   "cell_type": "markdown",
   "metadata": {},
   "source": [
    "### Imports"
   ]
  },
  {
   "cell_type": "code",
   "execution_count": 18,
   "metadata": {
    "collapsed": true
   },
   "outputs": [],
   "source": [
    "import requests\n",
    "from time import sleep\n",
    "import pandas as pd\n",
    "import numpy as np\n",
    "import bs4\n",
    "from bs4 import BeautifulSoup"
   ]
  },
  {
   "cell_type": "markdown",
   "metadata": {},
   "source": [
    "### Functions to web-scrap Indeed.com using Beautiful Soup"
   ]
  },
  {
   "cell_type": "code",
   "execution_count": 241,
   "metadata": {
    "collapsed": true
   },
   "outputs": [],
   "source": [
    "def text_preprocess(text):\n",
    "    t = str()\n",
    "    for i in text.split():\n",
    "        t = t + i + \"+\"\n",
    "    return t[:-1]"
   ]
  },
  {
   "cell_type": "code",
   "execution_count": 192,
   "metadata": {},
   "outputs": [],
   "source": [
    "def extract_job_title(soup): \n",
    "    jobs = []\n",
    "    for div in soup.find_all(name=\"div\", attrs={\"class\":\"row\"}):\n",
    "        for a in div.find_all(name=\"a\", attrs={\"data-tn-element\":\"jobTitle\"}):\n",
    "            jobs.append(a[\"title\"])\n",
    "    return(jobs)"
   ]
  },
  {
   "cell_type": "code",
   "execution_count": 194,
   "metadata": {},
   "outputs": [],
   "source": [
    "def extract_company(soup): \n",
    "    companies = []\n",
    "    for div in soup.find_all(name=\"div\", attrs={\"class\":\"row\"}):\n",
    "        company = div.find_all(name=\"span\", attrs={\"class\":\"company\"})\n",
    "        if len(company) > 0:\n",
    "            for b in company:\n",
    "                companies.append(b.text.strip())\n",
    "        else:\n",
    "            sec_try = div.find_all(name=\"span\", attrs={\"class\":\"result-link-source\"})\n",
    "            for span in sec_try:\n",
    "                companies.append(span.text.strip())\n",
    "    return(companies)"
   ]
  },
  {
   "cell_type": "code",
   "execution_count": 195,
   "metadata": {},
   "outputs": [],
   "source": [
    "def extract_location(soup): \n",
    "    locations = []\n",
    "    spans = soup.findAll(\"span\", attrs={\"class\": \"location\"})\n",
    "    for span in spans:\n",
    "        locations.append(span.text)\n",
    "    return(locations)"
   ]
  },
  {
   "cell_type": "code",
   "execution_count": 211,
   "metadata": {},
   "outputs": [],
   "source": [
    "def extract_summary(soup): \n",
    "    summaries = []\n",
    "    spans = soup.findAll(\"span\", attrs={\"class\": \"summary\"})\n",
    "    for span in spans:\n",
    "            summaries.append(span.text.strip())\n",
    "    return(summaries)"
   ]
  },
  {
   "cell_type": "code",
   "execution_count": 261,
   "metadata": {
    "collapsed": true
   },
   "outputs": [],
   "source": [
    "def get_indeed_jobs(city = 'Seattle', job_title = 'Data Scientist', n_jobs = 100):\n",
    "    \n",
    "    city = text_preprocess(city)\n",
    "    job_title = text_preprocess(job_title)\n",
    "    \n",
    "    cname = []\n",
    "    jtitle = []\n",
    "    location = []\n",
    "    summary = []\n",
    "    \n",
    "    for i in range(0,n_jobs,50):\n",
    "        URL = \"https://www.indeed.com/jobs?q=\" + job_title + \"&l=\" + city + \"&limit=50&radius=25&start=\" + str(i)\n",
    "        page = requests.get(URL)\n",
    "        soup = BeautifulSoup(page.text, \"html.parser\")\n",
    "        cname = cname + extract_company(soup)\n",
    "        jtitle = jtitle + extract_job_title(soup)\n",
    "        location = location + extract_location(soup)\n",
    "        summary = summary + extract_summary(soup)\n",
    "        sleep(1)\n",
    "    results = pd.DataFrame()\n",
    "    results['Job Title'] = jtitle\n",
    "    results['Company'] = cname\n",
    "    results['Location'] = location\n",
    "    results['Summary'] = summary\n",
    "    return results"
   ]
  },
  {
   "cell_type": "markdown",
   "metadata": {},
   "source": [
    "### Getting Data"
   ]
  },
  {
   "cell_type": "code",
   "execution_count": 262,
   "metadata": {},
   "outputs": [
    {
     "data": {
      "text/html": [
       "<div>\n",
       "<style>\n",
       "    .dataframe thead tr:only-child th {\n",
       "        text-align: right;\n",
       "    }\n",
       "\n",
       "    .dataframe thead th {\n",
       "        text-align: left;\n",
       "    }\n",
       "\n",
       "    .dataframe tbody tr th {\n",
       "        vertical-align: top;\n",
       "    }\n",
       "</style>\n",
       "<table border=\"1\" class=\"dataframe\">\n",
       "  <thead>\n",
       "    <tr style=\"text-align: right;\">\n",
       "      <th></th>\n",
       "      <th>Job Title</th>\n",
       "      <th>Company</th>\n",
       "      <th>Location</th>\n",
       "      <th>Summary</th>\n",
       "    </tr>\n",
       "  </thead>\n",
       "  <tbody>\n",
       "    <tr>\n",
       "      <th>0</th>\n",
       "      <td>Data Scientist</td>\n",
       "      <td>Indeed</td>\n",
       "      <td>Seattle, WA</td>\n",
       "      <td>As a Data Scientist at Indeed your role is to ...</td>\n",
       "    </tr>\n",
       "    <tr>\n",
       "      <th>1</th>\n",
       "      <td>Deep Learning Engineer/Scientist</td>\n",
       "      <td>EchoNous, Inc</td>\n",
       "      <td>Redmond, WA</td>\n",
       "      <td>Developing deep learning models with unstructu...</td>\n",
       "    </tr>\n",
       "    <tr>\n",
       "      <th>2</th>\n",
       "      <td>Principal Data Scientist</td>\n",
       "      <td>Philips</td>\n",
       "      <td>Bothell, WA</td>\n",
       "      <td>Configure prototypes according to local clinic...</td>\n",
       "    </tr>\n",
       "    <tr>\n",
       "      <th>3</th>\n",
       "      <td>Product Scientist</td>\n",
       "      <td>Indeed</td>\n",
       "      <td>Seattle, WA</td>\n",
       "      <td>Relevant experience (including internships and...</td>\n",
       "    </tr>\n",
       "    <tr>\n",
       "      <th>4</th>\n",
       "      <td>Machine Learning Engineer</td>\n",
       "      <td>AnswerIQ</td>\n",
       "      <td>Bellevue, WA</td>\n",
       "      <td>Create and manage ML infrastructure and data p...</td>\n",
       "    </tr>\n",
       "  </tbody>\n",
       "</table>\n",
       "</div>"
      ],
      "text/plain": [
       "                          Job Title        Company      Location  \\\n",
       "0                    Data Scientist         Indeed   Seattle, WA   \n",
       "1  Deep Learning Engineer/Scientist  EchoNous, Inc   Redmond, WA   \n",
       "2          Principal Data Scientist        Philips   Bothell, WA   \n",
       "3                 Product Scientist         Indeed   Seattle, WA   \n",
       "4         Machine Learning Engineer       AnswerIQ  Bellevue, WA   \n",
       "\n",
       "                                             Summary  \n",
       "0  As a Data Scientist at Indeed your role is to ...  \n",
       "1  Developing deep learning models with unstructu...  \n",
       "2  Configure prototypes according to local clinic...  \n",
       "3  Relevant experience (including internships and...  \n",
       "4  Create and manage ML infrastructure and data p...  "
      ]
     },
     "execution_count": 262,
     "metadata": {},
     "output_type": "execute_result"
    }
   ],
   "source": [
    "get_indeed_jobs(job_title='Data Scientist', city='Seattle', n_jobs=50).head()"
   ]
  },
  {
   "cell_type": "code",
   "execution_count": 263,
   "metadata": {},
   "outputs": [
    {
     "data": {
      "text/html": [
       "<div>\n",
       "<style>\n",
       "    .dataframe thead tr:only-child th {\n",
       "        text-align: right;\n",
       "    }\n",
       "\n",
       "    .dataframe thead th {\n",
       "        text-align: left;\n",
       "    }\n",
       "\n",
       "    .dataframe tbody tr th {\n",
       "        vertical-align: top;\n",
       "    }\n",
       "</style>\n",
       "<table border=\"1\" class=\"dataframe\">\n",
       "  <thead>\n",
       "    <tr style=\"text-align: right;\">\n",
       "      <th></th>\n",
       "      <th>Job Title</th>\n",
       "      <th>Company</th>\n",
       "      <th>Location</th>\n",
       "      <th>Summary</th>\n",
       "    </tr>\n",
       "  </thead>\n",
       "  <tbody>\n",
       "    <tr>\n",
       "      <th>0</th>\n",
       "      <td>Consultant Engineer</td>\n",
       "      <td>FM Global</td>\n",
       "      <td>Bellevue, WA 98009</td>\n",
       "      <td>When you join our team as a Consultant Enginee...</td>\n",
       "    </tr>\n",
       "    <tr>\n",
       "      <th>1</th>\n",
       "      <td>Nanofabrication Engineer</td>\n",
       "      <td>Modern Electron</td>\n",
       "      <td>Bellevue, WA</td>\n",
       "      <td>Modern Electron has an immediate opening for a...</td>\n",
       "    </tr>\n",
       "    <tr>\n",
       "      <th>2</th>\n",
       "      <td>Engineer - Environmental Consulting</td>\n",
       "      <td>SoundEarth Strategies, Inc.</td>\n",
       "      <td>Seattle, WA</td>\n",
       "      <td>Professional Engineer (PE). Registration as a ...</td>\n",
       "    </tr>\n",
       "    <tr>\n",
       "      <th>3</th>\n",
       "      <td>Methods Process Analyst</td>\n",
       "      <td>BOEING</td>\n",
       "      <td>Everett, WA 98204 (Holly area)</td>\n",
       "      <td>We are engineers and technicians. Participates...</td>\n",
       "    </tr>\n",
       "    <tr>\n",
       "      <th>4</th>\n",
       "      <td>Process Engineer</td>\n",
       "      <td>BioLife Solutions</td>\n",
       "      <td>Bothell, WA 98021</td>\n",
       "      <td>Technical understanding of aqueous chemical fo...</td>\n",
       "    </tr>\n",
       "  </tbody>\n",
       "</table>\n",
       "</div>"
      ],
      "text/plain": [
       "                             Job Title                      Company  \\\n",
       "0                  Consultant Engineer                    FM Global   \n",
       "1             Nanofabrication Engineer              Modern Electron   \n",
       "2  Engineer - Environmental Consulting  SoundEarth Strategies, Inc.   \n",
       "3              Methods Process Analyst                       BOEING   \n",
       "4                     Process Engineer            BioLife Solutions   \n",
       "\n",
       "                         Location  \\\n",
       "0              Bellevue, WA 98009   \n",
       "1                    Bellevue, WA   \n",
       "2                     Seattle, WA   \n",
       "3  Everett, WA 98204 (Holly area)   \n",
       "4               Bothell, WA 98021   \n",
       "\n",
       "                                             Summary  \n",
       "0  When you join our team as a Consultant Enginee...  \n",
       "1  Modern Electron has an immediate opening for a...  \n",
       "2  Professional Engineer (PE). Registration as a ...  \n",
       "3  We are engineers and technicians. Participates...  \n",
       "4  Technical understanding of aqueous chemical fo...  "
      ]
     },
     "execution_count": 263,
     "metadata": {},
     "output_type": "execute_result"
    }
   ],
   "source": [
    "get_indeed_jobs(job_title='Chemical Engineer', city='Seattle', n_jobs=50).head()"
   ]
  }
 ],
 "metadata": {
  "kernelspec": {
   "display_name": "Python 3",
   "language": "python",
   "name": "python3"
  },
  "language_info": {
   "codemirror_mode": {
    "name": "ipython",
    "version": 3
   },
   "file_extension": ".py",
   "mimetype": "text/x-python",
   "name": "python",
   "nbconvert_exporter": "python",
   "pygments_lexer": "ipython3",
   "version": "3.6.3"
  }
 },
 "nbformat": 4,
 "nbformat_minor": 2
}
