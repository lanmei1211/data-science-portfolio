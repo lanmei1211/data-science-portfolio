{
 "cells": [
  {
   "cell_type": "markdown",
   "metadata": {},
   "source": [
    "## Importing Libraries"
   ]
  },
  {
   "cell_type": "code",
   "execution_count": 56,
   "metadata": {
    "collapsed": false
   },
   "outputs": [],
   "source": [
    "import knn\n",
    "import pandas as pd"
   ]
  },
  {
   "cell_type": "markdown",
   "metadata": {},
   "source": [
    "## Training and Testing Data Frames"
   ]
  },
  {
   "cell_type": "code",
   "execution_count": 35,
   "metadata": {
    "collapsed": true
   },
   "outputs": [],
   "source": [
    "training_csv_name='atomsradii.csv'\n",
    "testing_csv_name='testing.csv'\n",
    "training_df=pd.read_csv(training_csv_name)\n",
    "testing_df=pd.read_csv(testing_csv_name)\n",
    "columns =[0,1]\n",
    "class_column=3"
   ]
  },
  {
   "cell_type": "markdown",
   "metadata": {},
   "source": [
    "## KNN Library"
   ]
  },
  {
   "cell_type": "markdown",
   "metadata": {},
   "source": [
    "### euclidean_dist function"
   ]
  },
  {
   "cell_type": "markdown",
   "metadata": {},
   "source": [
    "The euclidean_dist function takes 2 points as input calculates the euclidean distance between 2 points.  \n",
    "The euclidean distance is given by:  \n",
    "**Euclidean Distance = ((X<sub>1</sub> - X<sub>2</sub>)<sup>2</sup> + (Y<sub>1</sub> - Y<sub>2</sub>)<sup>2</sup>)<sup>1/2</sup>**"
   ]
  },
  {
   "cell_type": "markdown",
   "metadata": {},
   "source": [
    "#### Example 1"
   ]
  },
  {
   "cell_type": "markdown",
   "metadata": {},
   "source": [
    "Euclidean Distance between [1,1] and [2,2]"
   ]
  },
  {
   "cell_type": "code",
   "execution_count": 6,
   "metadata": {
    "collapsed": false
   },
   "outputs": [
    {
     "data": {
      "text/plain": [
       "1.4142135623730951"
      ]
     },
     "execution_count": 6,
     "metadata": {},
     "output_type": "execute_result"
    }
   ],
   "source": [
    "knn.euclidean_dist([1,1],[2,2])"
   ]
  },
  {
   "cell_type": "markdown",
   "metadata": {},
   "source": [
    "#### Example 2"
   ]
  },
  {
   "cell_type": "markdown",
   "metadata": {},
   "source": [
    "Euclidean Distance between [0,0] and [2,2]"
   ]
  },
  {
   "cell_type": "code",
   "execution_count": 9,
   "metadata": {
    "collapsed": false
   },
   "outputs": [
    {
     "data": {
      "text/plain": [
       "2.8284271247461903"
      ]
     },
     "execution_count": 9,
     "metadata": {},
     "output_type": "execute_result"
    }
   ],
   "source": [
    "knn.euclidean_dist([0,0],[2,2])"
   ]
  },
  {
   "cell_type": "markdown",
   "metadata": {},
   "source": [
    "#### Example 3"
   ]
  },
  {
   "cell_type": "markdown",
   "metadata": {},
   "source": [
    "Euclidean Distance between [0,1] and [3,5]"
   ]
  },
  {
   "cell_type": "code",
   "execution_count": 10,
   "metadata": {
    "collapsed": false
   },
   "outputs": [
    {
     "data": {
      "text/plain": [
       "5.0"
      ]
     },
     "execution_count": 10,
     "metadata": {},
     "output_type": "execute_result"
    }
   ],
   "source": [
    "knn.euclidean_dist([0,1],[3,5])"
   ]
  },
  {
   "cell_type": "markdown",
   "metadata": {},
   "source": [
    "### sorted_euclidean_dist function"
   ]
  },
  {
   "cell_type": "markdown",
   "metadata": {},
   "source": [
    "The sorted_euclidean_dist function calculates the sorted euclidean distances between one point and all the points in the training data frame. It returns the sorted euclidean distances with the corresponding class of the point in the training data frame."
   ]
  },
  {
   "cell_type": "markdown",
   "metadata": {},
   "source": [
    "#### Example 1"
   ]
  },
  {
   "cell_type": "markdown",
   "metadata": {},
   "source": [
    "Sorted euclidean distance between the point [0,0] and all points in the training data frame."
   ]
  },
  {
   "cell_type": "code",
   "execution_count": 19,
   "metadata": {
    "collapsed": false
   },
   "outputs": [
    {
     "data": {
      "text/plain": [
       "[(0.67468511173732, 'Alk'),\n",
       " (0.6977105417004963, 'TM'),\n",
       " (0.8154140052758476, 'TM'),\n",
       " (0.9052071586106686, 'Alk'),\n",
       " (0.9264987857520376, 'PT'),\n",
       " (1.0080674580602234, 'Alk'),\n",
       " (1.0480935072788116, 'Alk'),\n",
       " (1.122007130102122, 'PT'),\n",
       " (1.1676472069936192, 'PT'),\n",
       " (1.2880993750483696, 'PT'),\n",
       " (1.3433167906342867, 'Alk'),\n",
       " (1.3542894816101911, 'PT'),\n",
       " (1.4641379716406513, 'Alk'),\n",
       " (1.5250245899656834, 'Alk'),\n",
       " (1.627912774076056, 'Alk')]"
      ]
     },
     "execution_count": 19,
     "metadata": {},
     "output_type": "execute_result"
    }
   ],
   "source": [
    "sorted_ed1 = knn.sorted_euclidean_dist([0,0],training_df,columns,class_column)\n",
    "sorted_ed1"
   ]
  },
  {
   "cell_type": "markdown",
   "metadata": {},
   "source": [
    "#### Example 2"
   ]
  },
  {
   "cell_type": "markdown",
   "metadata": {},
   "source": [
    "Sorted euclidean distance between the point [0.5,0.5] and all points in the training data frame."
   ]
  },
  {
   "cell_type": "code",
   "execution_count": 20,
   "metadata": {
    "collapsed": false
   },
   "outputs": [
    {
     "data": {
      "text/plain": [
       "[(0.18681541692269407, 'TM'),\n",
       " (0.21633307652783934, 'TM'),\n",
       " (0.28, 'PT'),\n",
       " (0.39395431207184417, 'Alk'),\n",
       " (0.43462627624201466, 'PT'),\n",
       " (0.44654227123532214, 'Alk'),\n",
       " (0.4933558553417604, 'PT'),\n",
       " (0.5554277630799527, 'Alk'),\n",
       " (0.5798275605729689, 'Alk'),\n",
       " (0.5993329625508679, 'PT'),\n",
       " (0.6664082832618455, 'PT'),\n",
       " (0.7310950690573695, 'Alk'),\n",
       " (0.8448076704197235, 'Alk'),\n",
       " (0.8807383266328315, 'Alk'),\n",
       " (0.9798469268207152, 'Alk')]"
      ]
     },
     "execution_count": 20,
     "metadata": {},
     "output_type": "execute_result"
    }
   ],
   "source": [
    "sorted_ed2 = knn.sorted_euclidean_dist([0.5,0.5],training_df,columns,class_column)\n",
    "sorted_ed2"
   ]
  },
  {
   "cell_type": "markdown",
   "metadata": {},
   "source": [
    "#### Example 3"
   ]
  },
  {
   "cell_type": "markdown",
   "metadata": {},
   "source": [
    "Sorted euclidean distance between the point [1,1] and all points in the training data frame."
   ]
  },
  {
   "cell_type": "code",
   "execution_count": 21,
   "metadata": {
    "collapsed": false
   },
   "outputs": [
    {
     "data": {
      "text/plain": [
       "[(0.23259406699226015, 'PT'),\n",
       " (0.2433105012119288, 'PT'),\n",
       " (0.3448187929913333, 'PT'),\n",
       " (0.3512833614050059, 'PT'),\n",
       " (0.47507894080878826, 'Alk'),\n",
       " (0.5142956348249516, 'Alk'),\n",
       " (0.5197114584074513, 'Alk'),\n",
       " (0.5326349594234311, 'Alk'),\n",
       " (0.5462600113499065, 'PT'),\n",
       " (0.6363175307973213, 'TM'),\n",
       " (0.7200694410957876, 'Alk'),\n",
       " (0.7611832893594026, 'Alk'),\n",
       " (0.7789736837660178, 'TM'),\n",
       " (0.8100617260431455, 'Alk'),\n",
       " (0.9247702417357513, 'Alk')]"
      ]
     },
     "execution_count": 21,
     "metadata": {},
     "output_type": "execute_result"
    }
   ],
   "source": [
    "sorted_ed3 = knn.sorted_euclidean_dist([1,1],training_df,columns,class_column)\n",
    "sorted_ed3"
   ]
  },
  {
   "cell_type": "markdown",
   "metadata": {},
   "source": [
    "### class_prediction function"
   ]
  },
  {
   "cell_type": "markdown",
   "metadata": {},
   "source": [
    "The class_prediction function takes the sorted euclidean distances list and the value of k as input and predicts the class of the point."
   ]
  },
  {
   "cell_type": "markdown",
   "metadata": {},
   "source": [
    "#### Example 1"
   ]
  },
  {
   "cell_type": "markdown",
   "metadata": {},
   "source": [
    "Taking the sorted_ed1 above for the point [0,0] and the value of k as 3, let's predict the class of the point [0,0]"
   ]
  },
  {
   "cell_type": "code",
   "execution_count": 24,
   "metadata": {
    "collapsed": false
   },
   "outputs": [
    {
     "data": {
      "text/plain": [
       "'TM'"
      ]
     },
     "execution_count": 24,
     "metadata": {},
     "output_type": "execute_result"
    }
   ],
   "source": [
    "knn.class_prediction(sorted_ed1,3)"
   ]
  },
  {
   "cell_type": "markdown",
   "metadata": {},
   "source": [
    "#### Example 2"
   ]
  },
  {
   "cell_type": "markdown",
   "metadata": {},
   "source": [
    "Taking the sorted_ed1 above for the point [0.5,0.5] and the value of k as 4, let's predict the class of the point [0.5,0.5]"
   ]
  },
  {
   "cell_type": "code",
   "execution_count": 27,
   "metadata": {
    "collapsed": false
   },
   "outputs": [
    {
     "data": {
      "text/plain": [
       "'TM'"
      ]
     },
     "execution_count": 27,
     "metadata": {},
     "output_type": "execute_result"
    }
   ],
   "source": [
    "knn.class_prediction(sorted_ed2,4)"
   ]
  },
  {
   "cell_type": "markdown",
   "metadata": {},
   "source": [
    "#### Example 3"
   ]
  },
  {
   "cell_type": "markdown",
   "metadata": {},
   "source": [
    "Taking the sorted_ed1 above for the point [1,1] and the value of k as 5, let's predict the class of the point [1,1]"
   ]
  },
  {
   "cell_type": "code",
   "execution_count": 26,
   "metadata": {
    "collapsed": false
   },
   "outputs": [
    {
     "data": {
      "text/plain": [
       "'PT'"
      ]
     },
     "execution_count": 26,
     "metadata": {},
     "output_type": "execute_result"
    }
   ],
   "source": [
    "knn.class_prediction(sorted_ed3,5)"
   ]
  },
  {
   "cell_type": "markdown",
   "metadata": {},
   "source": [
    "### knn_classifier function"
   ]
  },
  {
   "cell_type": "markdown",
   "metadata": {},
   "source": [
    "The knn_classifier function is a wrapping function that takes an input point, the training data frame, a value of k, the column indices of the feature vectors in the training data frame, and the class column index as input and predicts the class of the input point."
   ]
  },
  {
   "cell_type": "markdown",
   "metadata": {},
   "source": [
    "#### Example 1"
   ]
  },
  {
   "cell_type": "markdown",
   "metadata": {},
   "source": [
    "Predicted class of the point [0,0] with k = 3"
   ]
  },
  {
   "cell_type": "code",
   "execution_count": 30,
   "metadata": {
    "collapsed": false
   },
   "outputs": [
    {
     "data": {
      "text/plain": [
       "'TM'"
      ]
     },
     "execution_count": 30,
     "metadata": {},
     "output_type": "execute_result"
    }
   ],
   "source": [
    "knn.knn_classifier(training_df,[0,0],3,[0,1],3)"
   ]
  },
  {
   "cell_type": "markdown",
   "metadata": {},
   "source": [
    "#### Example 2"
   ]
  },
  {
   "cell_type": "markdown",
   "metadata": {},
   "source": [
    "Predicted class of the point [0.5,0.5] with k = 4"
   ]
  },
  {
   "cell_type": "code",
   "execution_count": 31,
   "metadata": {
    "collapsed": false
   },
   "outputs": [
    {
     "data": {
      "text/plain": [
       "'TM'"
      ]
     },
     "execution_count": 31,
     "metadata": {},
     "output_type": "execute_result"
    }
   ],
   "source": [
    "knn.knn_classifier(training_df,[0.5,0.5],4,[0,1],3)"
   ]
  },
  {
   "cell_type": "markdown",
   "metadata": {},
   "source": [
    "#### Example 3"
   ]
  },
  {
   "cell_type": "markdown",
   "metadata": {},
   "source": [
    "Predicted class of the point [1,1] with k = 5"
   ]
  },
  {
   "cell_type": "code",
   "execution_count": 32,
   "metadata": {
    "collapsed": false
   },
   "outputs": [
    {
     "data": {
      "text/plain": [
       "'PT'"
      ]
     },
     "execution_count": 32,
     "metadata": {},
     "output_type": "execute_result"
    }
   ],
   "source": [
    "knn.knn_classifier(training_df,[1,1],5,[0,1],3)"
   ]
  },
  {
   "cell_type": "markdown",
   "metadata": {},
   "source": [
    "### knn_accuracy function"
   ]
  },
  {
   "cell_type": "markdown",
   "metadata": {},
   "source": [
    "The knn_accuracy is a wrapping function takes the training data frame, the testing data frame, a list of values of k, the column indices of the feature vectors, and the class column index as input and returns a dictionary of the accuracies (as a percentage) for different values of k."
   ]
  },
  {
   "cell_type": "markdown",
   "metadata": {},
   "source": [
    "#### Example 1"
   ]
  },
  {
   "cell_type": "markdown",
   "metadata": {},
   "source": [
    "The accuracy of the KNN classifier for the testing data frame for k values 1,2,3,4, and 5"
   ]
  },
  {
   "cell_type": "code",
   "execution_count": 49,
   "metadata": {
    "collapsed": true
   },
   "outputs": [],
   "source": [
    "k_list1 = [1,2,3,4,5]"
   ]
  },
  {
   "cell_type": "code",
   "execution_count": 50,
   "metadata": {
    "collapsed": false
   },
   "outputs": [
    {
     "data": {
      "text/plain": [
       "{1: 80.0, 2: 60.0, 3: 60.0, 4: 80.0, 5: 60.0}"
      ]
     },
     "execution_count": 50,
     "metadata": {},
     "output_type": "execute_result"
    }
   ],
   "source": [
    "knn.knn_accuracy(training_df,testing_df,k_list1,class_column,columns)"
   ]
  },
  {
   "cell_type": "markdown",
   "metadata": {},
   "source": [
    "#### Example 2"
   ]
  },
  {
   "cell_type": "markdown",
   "metadata": {},
   "source": [
    "The accuracy of the KNN classifier for the testing data frame for k values 2,4, and 6"
   ]
  },
  {
   "cell_type": "code",
   "execution_count": 51,
   "metadata": {
    "collapsed": true
   },
   "outputs": [],
   "source": [
    "k_list2 = [2,4,6]"
   ]
  },
  {
   "cell_type": "code",
   "execution_count": 52,
   "metadata": {
    "collapsed": false
   },
   "outputs": [
    {
     "data": {
      "text/plain": [
       "{2: 60.0, 4: 80.0, 6: 60.0}"
      ]
     },
     "execution_count": 52,
     "metadata": {},
     "output_type": "execute_result"
    }
   ],
   "source": [
    "knn.knn_accuracy(training_df,testing_df,k_list2,class_column,columns)"
   ]
  },
  {
   "cell_type": "markdown",
   "metadata": {},
   "source": [
    "#### Example 3"
   ]
  },
  {
   "cell_type": "markdown",
   "metadata": {},
   "source": [
    "The accuracy of the KNN classifier for the testing data frame for k values 1,3, and 5`"
   ]
  },
  {
   "cell_type": "code",
   "execution_count": 53,
   "metadata": {
    "collapsed": true
   },
   "outputs": [],
   "source": [
    "k_list3 = [1,3,5]"
   ]
  },
  {
   "cell_type": "code",
   "execution_count": 54,
   "metadata": {
    "collapsed": false
   },
   "outputs": [
    {
     "data": {
      "text/plain": [
       "{1: 80.0, 3: 60.0, 5: 60.0}"
      ]
     },
     "execution_count": 54,
     "metadata": {},
     "output_type": "execute_result"
    }
   ],
   "source": [
    "knn.knn_accuracy(training_df,testing_df,k_list3,class_column,columns)"
   ]
  }
 ],
 "metadata": {
  "anaconda-cloud": {},
  "kernelspec": {
   "display_name": "Python [default]",
   "language": "python",
   "name": "python3"
  },
  "language_info": {
   "codemirror_mode": {
    "name": "ipython",
    "version": 3
   },
   "file_extension": ".py",
   "mimetype": "text/x-python",
   "name": "python",
   "nbconvert_exporter": "python",
   "pygments_lexer": "ipython3",
   "version": "3.5.2"
  }
 },
 "nbformat": 4,
 "nbformat_minor": 2
}
